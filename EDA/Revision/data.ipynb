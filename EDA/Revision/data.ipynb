{
 "cells": [
  {
   "cell_type": "code",
   "execution_count": null,
   "metadata": {},
   "outputs": [],
   "source": [
    "# import pandas as pd"
   ]
  },
  {
   "cell_type": "code",
   "execution_count": null,
   "metadata": {},
   "outputs": [],
   "source": [
    "# df = pd.read_csv(\"ml.csv\")\n",
    "# print(\"Head returns first 5 \\n\")\n",
    "# df.head()\n",
    "# print(\"Tail returns last 5 \\n\")\n",
    "# df.tail()\n",
    "# print(\"Describe to get the description features of your dataframe like mean, std, min, max,.. \\n\")\n",
    "# df.describe()\n",
    "# print(\"Shape get the number of columns and rows of your dataframe \\n\")\n",
    "# df.shape\n",
    "# Display unique values for categorical columns\n",
    "# categorical_columns = df.select_dtypes(include=[\"object\"]).columns\n",
    "# for col in categorical_columns:\n",
    "#     unique_values = df[col].unique()\n",
    "#     print(f\"{col}: {len(unique_values)} unique values\")\n",
    "\n",
    "# for col in df.columns:\n",
    "#     # Value counts return frequency for each row\n",
    "#     print(df[col].value_counts())\n",
    "# print(len(df['fuel_type'].unique()))\n",
    "# print(df['fuel_type'].value_counts())\n",
    "# inplace=True does not return the dataframe to mean no new data frame is made\n",
    "# df.rename(columns={\"fuel_type\":\"fuel\"})\n",
    "# df.dtypes\n",
    "# df.isna().sum()\n",
    "# df.fillna(2000)\n",
    "# df.bfill() # fills with next non-null value\n",
    "# df.ffill() # fill with previous non-null value"
   ]
  }
 ],
 "metadata": {
  "kernelspec": {
   "display_name": "global_venv",
   "language": "python",
   "name": "python3"
  },
  "language_info": {
   "codemirror_mode": {
    "name": "ipython",
    "version": 3
   },
   "file_extension": ".py",
   "mimetype": "text/x-python",
   "name": "python",
   "nbconvert_exporter": "python",
   "pygments_lexer": "ipython3",
   "version": "3.12.6"
  }
 },
 "nbformat": 4,
 "nbformat_minor": 2
}
